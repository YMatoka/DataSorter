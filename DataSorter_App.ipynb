{
 "cells": [
  {
   "cell_type": "markdown",
   "metadata": {},
   "source": [
    "# Final Capstone Projects\n",
    "\n",
    "Please refer to the [**Final Capstone Projects**](http://nbviewer.jupyter.org/github/jmportilla/Complete-Python-Bootcamp/tree/master/Final%20Capstone%20Projects/) folder to get all the info on final capstone project ideas and possible solutions!"
   ]
  },
  {
   "cell_type": "code",
   "execution_count": null,
   "metadata": {},
   "outputs": [],
   "source": []
  },
  {
   "cell_type": "markdown",
   "metadata": {},
   "source": [
    "# <center>Sort Excel/CSV File Utility </center>"
   ]
  },
  {
   "cell_type": "markdown",
   "metadata": {},
   "source": [
    "<h2>Modules Import</h2>"
   ]
  },
  {
   "cell_type": "code",
   "execution_count": 1,
   "metadata": {},
   "outputs": [],
   "source": [
    "#import openpyxl\n",
    "#import csv\n",
    "#import os\n",
    "\n",
    "import pandas as pd\n",
    "import tkinter as tk\n",
    "\n",
    "from canvas import*\n",
    "from tkinter import Tk     # from tkinter import Tk for Python 3.x\n",
    "from tkinter.filedialog import askopenfilename\n",
    "from tkinter.messagebox import askquestion\n",
    "from tkinter.messagebox import askokcancel\n",
    "from tkinter.messagebox import showerror\n",
    "from tkinter import ttk\n",
    "import getpass\n",
    "\n",
    "#from tkinter import *\n",
    "from functools import partial\n",
    "\n",
    "#Constants Variables\n",
    "supported_formats = [\"xlsx\",\"xls\",\"xlsm\",\"xlsb\",\"csv\"]"
   ]
  },
  {
   "cell_type": "markdown",
   "metadata": {},
   "source": [
    " <h2>Functions</h2>"
   ]
  },
  {
   "cell_type": "code",
   "execution_count": 2,
   "metadata": {},
   "outputs": [],
   "source": [
    "def file_name_spliter(f_full_path):\n",
    "    \"\"\"Split the file name and his extension\n",
    "    \n",
    "    Parameters\n",
    "    --------------------------------------\n",
    "    f_full_path: the full path to the file\n",
    "    \"\"\"\n",
    "    f_file_name = f_full_path.split(\"/\")[-1].split(\".\")[0]\n",
    "    f_file_extension =  f_full_path.split(\"/\")[-1].split(\".\")[-1] \n",
    "    \n",
    "    return f_file_name, f_file_extension"
   ]
  },
  {
   "cell_type": "code",
   "execution_count": 3,
   "metadata": {},
   "outputs": [],
   "source": [
    "def right_format(f_file_name,f_file_extension):\n",
    "    \"\"\"Split the file name and his extension\n",
    "    \n",
    "    Parameters\n",
    "    --------------------------------------\n",
    "    f_file_name: the name of the file\n",
    "    f_file_extension: the exension of the file\n",
    "    \"\"\"\n",
    "    if f_file_extension not in supported_formats:\n",
    "        msg = f\"The file \\\"{f_file_name}\\\" is on \\\"{f_file_extension}\\\" format and is not supported by this program \\n\" \\\n",
    "              +\"\\nYou can see below the list of the supported format:\\n\\n\" \\\n",
    "              + \"\\n\".join(supported_formats)\n",
    "        showerror(title='Error of file format', message=msg)\n",
    "        return False\n",
    "    else:\n",
    "        return True"
   ]
  },
  {
   "cell_type": "code",
   "execution_count": 4,
   "metadata": {},
   "outputs": [],
   "source": [
    "def get_data(f_path,f_extension):\n",
    "    \"\"\"Get Data from xlsx or csv File\n",
    "    \n",
    "    Parameters\n",
    "    --------------------------------------\n",
    "    f_path: the full path to the file\n",
    "    f_extension: the extension of the file\n",
    "    \"\"\"\n",
    "    if f_extension == \"csv\":\n",
    "        data = pd.read_csv(f_path,delimiter=';')\n",
    "    else:\n",
    "        data = pd.read_excel(f_path)\n",
    "    return data"
   ]
  },
  {
   "cell_type": "markdown",
   "metadata": {},
   "source": [
    "<h2>Classes</h2>"
   ]
  },
  {
   "cell_type": "code",
   "execution_count": 24,
   "metadata": {
    "scrolled": true
   },
   "outputs": [],
   "source": [
    "class Application(tk.Tk):\n",
    "    \n",
    "    def __init__(self):\n",
    "        tk.Tk.__init__(self)\n",
    "        self.geometry(\"700x500\")\n",
    "        self.data = pd.DataFrame()\n",
    "        self.create_widgets()\n",
    "        \n",
    "    def _quit(self):\n",
    "        self.quit()\n",
    "        self.destroy()\n",
    "        \n",
    "    def create_widgets(self):\n",
    "        \n",
    "        #creating elements\n",
    "        self.resizable(False,False)\n",
    "        self.frameData = tk.LabelFrame(self, relief='raised',text=\"Excel Data\",  height=300, width=640)\n",
    "        self.tv1 = ttk.Treeview(self.frameData)\n",
    "        self.scrollY = tk.Scrollbar(self.tv1, orient=tk.VERTICAL, command=self.tv1.yview)\n",
    "        self.scrollX = tk.Scrollbar(self.tv1, orient=tk.HORIZONTAL, command=self.tv1.xview)\n",
    "        self.tv1.configure(yscrollcommand=self.scrollY.set, xscrollcommand=self.scrollX.set )\n",
    "        \n",
    "        self.frameCombine = tk.LabelFrame(self, relief='raised',height=100, width=310)\n",
    "        self.frameHeaders = tk.LabelFrame(self.frameCombine, text=\"Choose the field whith you want to sort the file\", height=100, width=310)\n",
    "        self.labelTop1 = tk.Label(self.frameHeaders ,text = \"Choose the field whith you want to sort the file\")\n",
    "        self.comboBox1 = ttk.Combobox(self.frameHeaders , values=[])\n",
    "        \n",
    "        self.frameOrder = tk.LabelFrame(self.frameCombine, text=\"Sorting order\", height=100, width=310)\n",
    "        self.comboBox2 = ttk.Combobox(self.frameOrder, values=[\"Ascending\",\"Descending\"])\n",
    "        self.bouton = tk.Button(self.frameCombine, text=\"Sort the Data\", command=self.sort_data,height=2)\n",
    "        self.labelTop2 = tk.Label(self.frameOrder,text = \"Sorting order\")\n",
    "        \n",
    "        self.frameFile = tk.LabelFrame(self, relief='raised', text=\"File Management\", height=50, width=640)\n",
    "        self.bouton1 = tk.Button(self.frameFile, text=\"Load a file\", command=self.choose_data,height=2)\n",
    "        self.bouton2 = tk.Button(self.frameFile, text=\"Save the File\", command=\"\",height=2)\n",
    "        self.bouton3 = tk.Button(self.frameFile, text=\"Quitter\", command=self._quit,height=2)\n",
    "        \n",
    "        #placing all elements\n",
    "        self.frameData.pack(side='top')\n",
    "        self.tv1.place(relheight=1, relwidth=1) \n",
    "        self.scrollY.pack(side=\"right\",fill=\"y\")\n",
    "        self.scrollX.pack(side=\"bottom\",fill=\"x\")\n",
    "        \n",
    "        self.frameCombine.pack(pady=10)\n",
    "                               \n",
    "        self.frameHeaders.pack(side=\"left\",padx=10,pady=10)\n",
    "        #self.labelTop1.pack(padx=5,pady=5)\n",
    "        self.comboBox1.pack(padx=5,pady=5)\n",
    "        \n",
    "        self.frameOrder.pack(side=\"left\",padx=10,pady=5)                     \n",
    "        #self.labelTop2.pack(padx=5,pady=5)\n",
    "        self.comboBox2.pack(padx=5,pady=5)\n",
    "        self.comboBox2.current(1)\n",
    "        self.bouton.pack(side=\"left\",padx=10,pady=5) \n",
    "    \n",
    "        self.frameFile.pack(padx=10,pady=5) \n",
    "        self.bouton1.pack(side=\"left\",padx=10,pady=5)\n",
    "        self.bouton2.pack(side=\"left\",padx=10,pady=5)\n",
    "        self.bouton3.pack(side=\"left\",padx=10,pady=5)\n",
    "   \n",
    "    def load_data(self):\n",
    "        \n",
    "        for i in self.tv1.get_children():\n",
    "            self.tv1.delete(i)\n",
    "            \n",
    "        #adding columns\n",
    "        self.comboBox1['values']= list(self.data.columns)\n",
    "        self.comboBox1.current(0)\n",
    "        self.tv1[\"column\"]= list(self.data.columns)\n",
    "        self.tv1[\"show\"] = \"headings\"\n",
    "\n",
    "        for column in self.tv1[\"columns\"]:\n",
    "            self.tv1.heading(column, text=column) # let the column heading = column name\n",
    "\n",
    "        #adding rows of data\n",
    "        df_rows = self.data.to_numpy().tolist() # turns the dataframe into a list of lists\n",
    "        for row in df_rows:\n",
    "            self.tv1.insert(\"\", \"end\", values=row)       \n",
    "        \n",
    "        \n",
    "        \n",
    "    #Choose a directory and a file\n",
    "    def choose_data(self):\n",
    "       \n",
    "        #tk.Tk().withdraw() # we don't want a full GUI, so keep the root window from appearing\n",
    "        file_path = askopenfilename() # show an \"Open\" dialog box and return the path to the selected file\n",
    "\n",
    "        if file_path != \"\":\n",
    "            \n",
    "            #Get the extenion of the file\n",
    "            file_name, file_extension = file_name_spliter (file_path)\n",
    "\n",
    "            #Getting the data from the file\n",
    "            if right_format(file_name, file_extension):\n",
    "                    \n",
    "                self.data = get_data(file_path,file_extension)\n",
    "                \n",
    "                self.load_data()\n",
    "                  \n",
    "               \n",
    "                    \n",
    "                #self.tv1[\"displaycolumns\"]= \"#all\"\n",
    "                \n",
    "    #Sort he data by the selected COlumn\n",
    "    def sort_data(self):\n",
    "\n",
    "        if not self.data.empty:\n",
    "            if self.comboBox2.get()==\"Ascending\":\n",
    "                sort_type = True\n",
    "            else:\n",
    "                sort_type = False\n",
    "\n",
    "            self.data.sort_values(by=[self.comboBox1.get()],ascending=sort_type,inplace=True)\n",
    "            self.load_data()\n",
    "            \n",
    "    #Save the file\n",
    "    \n",
    "\n",
    "            \n",
    "                \n",
    "\n",
    "            \n",
    "if __name__ == \"__main__\":\n",
    "    app = Application()\n",
    "    app.title(\"Sort Excel/CSV File Utility\")\n",
    "    app.mainloop()"
   ]
  },
  {
   "cell_type": "code",
   "execution_count": 6,
   "metadata": {},
   "outputs": [
    {
     "data": {
      "text/plain": [
       "<function tkinter.Misc.winfo_width(self)>"
      ]
     },
     "execution_count": 6,
     "metadata": {},
     "output_type": "execute_result"
    }
   ],
   "source": [
    "tk.LabelFrame.winfo_width"
   ]
  },
  {
   "cell_type": "code",
   "execution_count": null,
   "metadata": {},
   "outputs": [],
   "source": [
    "#Choose the header to sort the data with \n",
    "#app =Tk.Tk()\n",
    "#data.sort_values(by='First Name',inplace=True)\n",
    "#data.to_excel(\"dataframe_to_xlsx.xlsx\", index=False)\n",
    "list(data.columns)"
   ]
  },
  {
   "cell_type": "code",
   "execution_count": null,
   "metadata": {},
   "outputs": [],
   "source": []
  },
  {
   "cell_type": "code",
   "execution_count": null,
   "metadata": {},
   "outputs": [],
   "source": [
    "app = Tk() \n",
    "app.geometry('500x500')\n",
    "\n",
    "labelTop = tk.Label(app,text = \"Choose the field whith you want to sort the file\")\n",
    "labelTop.grid(column=0, row=0)\n",
    "\n",
    "labelHeaders = tk.Label(app,text = list(data.columns))\n",
    "labelHeaders.grid(column=0, row=1)\n",
    "\n",
    "comboExample = ttk.Combobox(app, values=list(data.columns))\n",
    "comboExample.grid(column=0, row=2)\n",
    "comboExample.current(0)\n",
    "\n",
    "frame1 = tk.LabelFrame(app, text=\"Excel Data\")\n",
    "frame1.place(rely=0.65, relheight=1,relwidth=1)\n",
    "\n",
    "app.mainloop()"
   ]
  },
  {
   "cell_type": "code",
   "execution_count": null,
   "metadata": {},
   "outputs": [],
   "source": [
    "ws['A1'] = 42"
   ]
  },
  {
   "cell_type": "code",
   "execution_count": null,
   "metadata": {},
   "outputs": [],
   "source": [
    "ws.rows"
   ]
  },
  {
   "cell_type": "code",
   "execution_count": null,
   "metadata": {},
   "outputs": [],
   "source": [
    "# Rows can also be appended\n",
    "ws.append([1, 2, 3])\n",
    "\n",
    "# Python types will automatically be converted\n",
    "import datetime\n",
    "ws['A2'] = datetime.datetime.now()\n",
    "\n",
    "# Save the file\n",
    "wb.save(\"sample.xlsx\")"
   ]
  },
  {
   "cell_type": "code",
   "execution_count": null,
   "metadata": {},
   "outputs": [],
   "source": []
  }
 ],
 "metadata": {
  "kernelspec": {
   "display_name": "Python 3",
   "language": "python",
   "name": "python3"
  },
  "language_info": {
   "codemirror_mode": {
    "name": "ipython",
    "version": 3
   },
   "file_extension": ".py",
   "mimetype": "text/x-python",
   "name": "python",
   "nbconvert_exporter": "python",
   "pygments_lexer": "ipython3",
   "version": "3.8.8"
  }
 },
 "nbformat": 4,
 "nbformat_minor": 4
}
