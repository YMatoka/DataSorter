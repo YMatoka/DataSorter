{
 "cells": [
  {
   "cell_type": "markdown",
   "metadata": {},
   "source": [
    "# Final Capstone Projects\n",
    "\n",
    "Please refer to the [**Final Capstone Projects**](http://nbviewer.jupyter.org/github/jmportilla/Complete-Python-Bootcamp/tree/master/Final%20Capstone%20Projects/) folder to get all the info on final capstone project ideas and possible solutions!"
   ]
  },
  {
   "cell_type": "code",
   "execution_count": null,
   "metadata": {},
   "outputs": [],
   "source": []
  },
  {
   "cell_type": "markdown",
   "metadata": {},
   "source": [
    "# <center>Sort Excel/CSV File Utility </center>"
   ]
  },
  {
   "cell_type": "markdown",
   "metadata": {},
   "source": [
    "<h2>Modules Import</h2>"
   ]
  },
  {
   "cell_type": "code",
   "execution_count": 1,
   "metadata": {},
   "outputs": [],
   "source": [
    "#import openpyxl\n",
    "#import csv\n",
    "#import os\n",
    "\n",
    "import pandas as pd\n",
    "import tkinter as tk\n",
    "\n",
    "from tkinter import Tk     # from tkinter import Tk for Python 3.x\n",
    "from tkinter.filedialog import askopenfilename\n",
    "from tkinter.messagebox import askquestion\n",
    "from tkinter.messagebox import askokcancel\n",
    "from tkinter.messagebox import showerror\n",
    "from tkinter import ttk\n",
    "import getpass\n",
    "\n",
    "#from tkinter import *\n",
    "from functools import partial\n",
    "\n",
    "#Constants Variables\n",
    "supported_formats = [\"xlsx\",\"xls\",\"xlsm\",\"xlsb\",\"csv\"]"
   ]
  },
  {
   "cell_type": "markdown",
   "metadata": {},
   "source": [
    " <h2>Functions</h2>"
   ]
  },
  {
   "cell_type": "code",
   "execution_count": 2,
   "metadata": {},
   "outputs": [],
   "source": [
    "def file_name_spliter(f_full_path):\n",
    "    \"\"\"Split the file name and his extension\n",
    "    \n",
    "    Parameters\n",
    "    --------------------------------------\n",
    "    f_full_path: the full path to the file\n",
    "    \"\"\"\n",
    "    f_file_name = f_full_path.split(\"/\")[-1].split(\".\")[0]\n",
    "    f_file_extension =  f_full_path.split(\"/\")[-1].split(\".\")[-1] \n",
    "    \n",
    "    return f_file_name, f_file_extension"
   ]
  },
  {
   "cell_type": "code",
   "execution_count": 3,
   "metadata": {},
   "outputs": [],
   "source": [
    "def right_format(f_file_name,f_file_extension):\n",
    "    \"\"\"Split the file name and his extension\n",
    "    \n",
    "    Parameters\n",
    "    --------------------------------------\n",
    "    f_file_name: the name of the file\n",
    "    f_file_extension: the exension of the file\n",
    "    \"\"\"\n",
    "    if f_file_extension not in supported_formats:\n",
    "        msg = f\"The file \\\"{f_file_name}\\\" is on \\\"{f_file_extension}\\\" format and is not supported by this program \\n\" \\\n",
    "              +\"\\nYou can see below the list of the supported format:\\n\\n\" \\\n",
    "              + \"\\n\".join(supported_formats)\n",
    "        showerror(title='Error of file format', message=msg)\n",
    "        return False\n",
    "    else:\n",
    "        return True"
   ]
  },
  {
   "cell_type": "code",
   "execution_count": 4,
   "metadata": {},
   "outputs": [],
   "source": [
    "def get_data(f_path,f_extension):\n",
    "    \"\"\"Get Data from xlsx or csv File\n",
    "    \n",
    "    Parameters\n",
    "    --------------------------------------\n",
    "    f_path: the full path to the file\n",
    "    f_extension: the extension of the file\n",
    "    \"\"\"\n",
    "    if f_extension == \"csv\":\n",
    "        data = pd.read_csv(f_path,delimiter=';')\n",
    "    else:\n",
    "        data = pd.read_excel(f_path)\n",
    "    return data"
   ]
  },
  {
   "cell_type": "markdown",
   "metadata": {},
   "source": [
    "<h2>Classes</h2>"
   ]
  },
  {
   "cell_type": "code",
   "execution_count": 7,
   "metadata": {
    "scrolled": true
   },
   "outputs": [
    {
     "name": "stdout",
     "output_type": "stream",
     "text": [
      "1\n",
      "1\n"
     ]
    }
   ],
   "source": [
    "class Application(tk.Tk):\n",
    "    \n",
    "    def __init__(self):\n",
    "        tk.Tk.__init__(self)\n",
    "        self.geometry(\"800x500\")\n",
    "        self.create_widgets()\n",
    "       \n",
    "    def create_widgets(self):\n",
    "        self.frame1 = tk.LabelFrame(self, text=\"Excel Data\")\n",
    "        self.frame2 = tk.LabelFrame(self, text=\"Open File\")\n",
    "        self.bouton1 = tk.Button(self.frame2, text=\"Load a file\", command=self.load_data)\n",
    "        self.bouton2 = tk.Button(self.frame2, text=\"Sort the Data\", command=\"\")\n",
    "        self.bouton3 = tk.Button(self.frame2, text=\"Quitter\", command=self.destroy)\n",
    "        \n",
    "        self.comboBox = ttk.Combobox(self, values=[])\n",
    "        self.labelTop = tk.Label(self,text = \"Choose the field whith you want to sort the file\")\n",
    "        self.tv1 = ttk.Treeview(self.frame1)\n",
    "        \n",
    "        #adding scrollbar hoziontal and vertical\n",
    "        self.scrollY = tk.Scrollbar(self, orient=tk.VERTICAL, command=self.tv1.yview)\n",
    "        self.scrollX = tk.Scrollbar(self, orient=tk.HORIZONTAL, command=self.tv1.xview)\n",
    "        \n",
    "        self.tv1.place(relheight=1, relwidth=1) \n",
    "        \n",
    "        self.frame1.place(height=300, width=640, rely=0.05, relx=0.1)\n",
    "        self.scrollY.place(relx=0.90,rely=0.05,height=300)\n",
    "        self.scrollX.place(relx=0.1,rely=0.65,width=640)\n",
    "        \n",
    "        print(self.frame1.winfo_width())\n",
    "        print(self.frame1.winfo_width())\n",
    "        \n",
    "        self.labelTop.place(relx=0.13,rely=0.7)\n",
    "        self.comboBox.place(width=320,rely=0.75,relx=0.1)\n",
    "        self.frame2.place(height=50, width=640, rely=0.83, relx=0.1)\n",
    "        self.bouton1.place(relx=0.03)\n",
    "        self.bouton2.place(relx=0.4)\n",
    "        self.bouton3.place(relx=0.85)\n",
    "        \n",
    "    #Choose a directory and a file\n",
    "    def load_data(self):\n",
    "       \n",
    "        tk.Tk().withdraw() # we don't want a full GUI, so keep the root window from appearing\n",
    "        file_path = askopenfilename() # show an \"Open\" dialog box and return the path to the selected file\n",
    "\n",
    "        if file_path != \"\":\n",
    "\n",
    "            #Get the extenion of the file\n",
    "            file_name, file_extension = file_name_spliter (file_path)\n",
    "\n",
    "            #Getting the data from the file\n",
    "            if right_format(file_name, file_extension):\n",
    "                data = get_data(file_path,file_extension)\n",
    "                \n",
    "                #adding columns\n",
    "                self.comboBox['values']= list(data.columns)\n",
    "                self.comboBox.current(0)\n",
    "                self.tv1[\"column\"]= list(data.columns)\n",
    "                self.tv1[\"show\"] = \"headings\"\n",
    "                \n",
    "                for column in self.tv1[\"columns\"]:\n",
    "                    self.tv1.heading(column, text=column) # let the column heading = column name\n",
    "                \n",
    "                #adding rows of data\n",
    "                df_rows = data.to_numpy().tolist() # turns the dataframe into a list of lists\n",
    "                for row in df_rows:\n",
    "                    self.tv1.insert(\"\", \"end\", values=row)  \n",
    "                    \n",
    "                #self.tv1[\"displaycolumns\"]= \"#all\"\n",
    "            \n",
    "                \n",
    "\n",
    "if __name__ == \"__main__\":\n",
    "    app = Application()\n",
    "    app.title(\"Sort Excel/CSV File Utility\")\n",
    "    app.mainloop()"
   ]
  },
  {
   "cell_type": "code",
   "execution_count": null,
   "metadata": {},
   "outputs": [],
   "source": [
    "tk.LabelFrame.winfo_width"
   ]
  },
  {
   "cell_type": "code",
   "execution_count": null,
   "metadata": {},
   "outputs": [],
   "source": [
    "#Choose the header to sort the data with \n",
    "#app =Tk.Tk()\n",
    "#data.sort_values(by='First Name',inplace=True)\n",
    "#data.to_excel(\"dataframe_to_xlsx.xlsx\", index=False)\n",
    "list(data.columns)"
   ]
  },
  {
   "cell_type": "code",
   "execution_count": null,
   "metadata": {},
   "outputs": [],
   "source": []
  },
  {
   "cell_type": "code",
   "execution_count": 50,
   "metadata": {},
   "outputs": [
    {
     "ename": "KeyboardInterrupt",
     "evalue": "",
     "output_type": "error",
     "traceback": [
      "\u001b[1;31m---------------------------------------------------------------------------\u001b[0m",
      "\u001b[1;31mKeyboardInterrupt\u001b[0m                         Traceback (most recent call last)",
      "\u001b[1;32m<ipython-input-50-0ed106492f7d>\u001b[0m in \u001b[0;36m<module>\u001b[1;34m\u001b[0m\n\u001b[0;32m     15\u001b[0m \u001b[0mframe1\u001b[0m\u001b[1;33m.\u001b[0m\u001b[0mplace\u001b[0m\u001b[1;33m(\u001b[0m\u001b[0mrely\u001b[0m\u001b[1;33m=\u001b[0m\u001b[1;36m0.65\u001b[0m\u001b[1;33m,\u001b[0m \u001b[0mrelheight\u001b[0m\u001b[1;33m=\u001b[0m\u001b[1;36m1\u001b[0m\u001b[1;33m,\u001b[0m\u001b[0mrelwidth\u001b[0m\u001b[1;33m=\u001b[0m\u001b[1;36m1\u001b[0m\u001b[1;33m)\u001b[0m\u001b[1;33m\u001b[0m\u001b[1;33m\u001b[0m\u001b[0m\n\u001b[0;32m     16\u001b[0m \u001b[1;33m\u001b[0m\u001b[0m\n\u001b[1;32m---> 17\u001b[1;33m \u001b[0mapp\u001b[0m\u001b[1;33m.\u001b[0m\u001b[0mmainloop\u001b[0m\u001b[1;33m(\u001b[0m\u001b[1;33m)\u001b[0m\u001b[1;33m\u001b[0m\u001b[1;33m\u001b[0m\u001b[0m\n\u001b[0m",
      "\u001b[1;32m~\\anaconda3\\lib\\tkinter\\__init__.py\u001b[0m in \u001b[0;36mmainloop\u001b[1;34m(self, n)\u001b[0m\n\u001b[0;32m   1427\u001b[0m     \u001b[1;32mdef\u001b[0m \u001b[0mmainloop\u001b[0m\u001b[1;33m(\u001b[0m\u001b[0mself\u001b[0m\u001b[1;33m,\u001b[0m \u001b[0mn\u001b[0m\u001b[1;33m=\u001b[0m\u001b[1;36m0\u001b[0m\u001b[1;33m)\u001b[0m\u001b[1;33m:\u001b[0m\u001b[1;33m\u001b[0m\u001b[1;33m\u001b[0m\u001b[0m\n\u001b[0;32m   1428\u001b[0m         \u001b[1;34m\"\"\"Call the mainloop of Tk.\"\"\"\u001b[0m\u001b[1;33m\u001b[0m\u001b[1;33m\u001b[0m\u001b[0m\n\u001b[1;32m-> 1429\u001b[1;33m         \u001b[0mself\u001b[0m\u001b[1;33m.\u001b[0m\u001b[0mtk\u001b[0m\u001b[1;33m.\u001b[0m\u001b[0mmainloop\u001b[0m\u001b[1;33m(\u001b[0m\u001b[0mn\u001b[0m\u001b[1;33m)\u001b[0m\u001b[1;33m\u001b[0m\u001b[1;33m\u001b[0m\u001b[0m\n\u001b[0m\u001b[0;32m   1430\u001b[0m \u001b[1;33m\u001b[0m\u001b[0m\n\u001b[0;32m   1431\u001b[0m     \u001b[1;32mdef\u001b[0m \u001b[0mquit\u001b[0m\u001b[1;33m(\u001b[0m\u001b[0mself\u001b[0m\u001b[1;33m)\u001b[0m\u001b[1;33m:\u001b[0m\u001b[1;33m\u001b[0m\u001b[1;33m\u001b[0m\u001b[0m\n",
      "\u001b[1;31mKeyboardInterrupt\u001b[0m: "
     ]
    }
   ],
   "source": [
    "app = Tk() \n",
    "app.geometry('500x500')\n",
    "\n",
    "labelTop = tk.Label(app,text = \"Choose the field whith you want to sort the file\")\n",
    "labelTop.grid(column=0, row=0)\n",
    "\n",
    "labelHeaders = tk.Label(app,text = list(data.columns))\n",
    "labelHeaders.grid(column=0, row=1)\n",
    "\n",
    "comboExample = ttk.Combobox(app, values=list(data.columns))\n",
    "comboExample.grid(column=0, row=2)\n",
    "comboExample.current(0)\n",
    "\n",
    "frame1 = tk.LabelFrame(app, text=\"Excel Data\")\n",
    "frame1.place(rely=0.65, relheight=1,relwidth=1)\n",
    "\n",
    "app.mainloop()"
   ]
  },
  {
   "cell_type": "code",
   "execution_count": null,
   "metadata": {},
   "outputs": [],
   "source": [
    "ws['A1'] = 42"
   ]
  },
  {
   "cell_type": "code",
   "execution_count": null,
   "metadata": {},
   "outputs": [],
   "source": [
    "ws.rows"
   ]
  },
  {
   "cell_type": "code",
   "execution_count": null,
   "metadata": {},
   "outputs": [],
   "source": [
    "# Rows can also be appended\n",
    "ws.append([1, 2, 3])\n",
    "\n",
    "# Python types will automatically be converted\n",
    "import datetime\n",
    "ws['A2'] = datetime.datetime.now()\n",
    "\n",
    "# Save the file\n",
    "wb.save(\"sample.xlsx\")"
   ]
  },
  {
   "cell_type": "code",
   "execution_count": null,
   "metadata": {},
   "outputs": [],
   "source": []
  }
 ],
 "metadata": {
  "kernelspec": {
   "display_name": "Python 3",
   "language": "python",
   "name": "python3"
  },
  "language_info": {
   "codemirror_mode": {
    "name": "ipython",
    "version": 3
   },
   "file_extension": ".py",
   "mimetype": "text/x-python",
   "name": "python",
   "nbconvert_exporter": "python",
   "pygments_lexer": "ipython3",
   "version": "3.8.8"
  }
 },
 "nbformat": 4,
 "nbformat_minor": 4
}
